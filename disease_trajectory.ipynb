{
 "cells": [
  {
   "cell_type": "markdown",
   "metadata": {},
   "source": [
    "# Patient Trajectory in COVID-19\n",
    "\n",
    "We want to understand the patient trajectory of patients with infectious diseases such as COVID-19.\n",
    "Single-cell genomics can generate highly detailed molecular biological information on individuals suffering from such a disease.\n",
    "[patpy](https://github.com/lueckenlab/patpy) is a tool which can generate a patient representation from such an individual patient's single-cell genomic profile.\n",
    "\n",
    "Check out **[this tutorial](https://github.com/lueckenlab/patpy/blob/main/docs/notebooks/Patient_trajectories_example.ipynb)** on the patpy repository to learn more about how ehrapy can be used for trajectory inference on representations generated from patpy."
   ]
  }
 ],
 "metadata": {
  "language_info": {
   "name": "python"
  }
 },
 "nbformat": 4,
 "nbformat_minor": 2
}
