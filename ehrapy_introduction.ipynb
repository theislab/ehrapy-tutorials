{
 "cells": [
  {
   "attachments": {},
   "cell_type": "markdown",
   "id": "fd0136b6-54c9-496b-a1e3-d8f4509a8f28",
   "metadata": {},
   "source": [
    "# Introduction to ehrapy"
   ]
  },
  {
   "attachments": {},
   "cell_type": "markdown",
   "id": "e6b8d85e-d22e-4833-a5fc-642b6f4a146c",
   "metadata": {},
   "source": [
    "Welcome to ehrapy! \n",
    "\n",
    "\n",
    "ehrapy is a framework for the exploratory and targeted end-to-end analysis of complex electronic health record (EHR) datasets inspired by the biological omics world.\n",
    "Hereby, data points are not necessarily treated as complete patients, but as patient visits representing snapshots of the underlying system.\n",
    "The goal of any exploratory analysis not necessarily is to predict or classify a specific state, but to understand the system underlying the data manifold."
   ]
  },
  {
   "attachments": {},
   "cell_type": "markdown",
   "id": "fc830dce-867f-4d1e-8c47-b3fe340c0179",
   "metadata": {},
   "source": [
    "ehrapy is not a pure machine learning library or a pure statistics library, but a framework providing simplified access to fundamental algorithms to preprocess, visualize and analyze EHR data."
   ]
  },
  {
   "attachments": {},
   "cell_type": "markdown",
   "id": "1fbccfae-6f32-4f30-8e63-f4123af410b9",
   "metadata": {},
   "source": [
    "## Fundamental Principles"
   ]
  },
  {
   "attachments": {},
   "cell_type": "markdown",
   "id": "7b75214a-f619-47f2-84ce-8df1fd3344c0",
   "metadata": {},
   "source": [
    "One of the main advantages of ehrapy is that EHR datasets can be analyzed from beginning to end with a clear, but flexible, order of operations.\n",
    "\n",
    "![](images/ehrapy_overview.png)"
   ]
  },
  {
   "attachments": {},
   "cell_type": "markdown",
   "id": "0063b640-4cf6-453f-b0d8-db9b342ff312",
   "metadata": {},
   "source": [
    "ehrapy borrows a lot from the single-cell world and the [scverse](https://github.com/scverse/) ecosystem. Notably, ehrapy is using the same data structure (AnnData) and many of the fundamental algorithms (scanpy). Both are briefly introduced in the following subsections."
   ]
  },
  {
   "attachments": {},
   "cell_type": "markdown",
   "id": "aff45f3d-ee7a-4e47-ae04-891566160b91",
   "metadata": {},
   "source": [
    "## AnnData"
   ]
  },
  {
   "attachments": {},
   "cell_type": "markdown",
   "id": "cffb8332-8b43-4c41-81fa-500b5cd3153f",
   "metadata": {},
   "source": [
    "AnnData is short for Annotated Data and is the primary data structure used within ehrapy. Technically described, it is a Python package for handling annotated data matrices in memory and on disk, positioned between Pandas and xarray. AnnData offers a broad range of computationally efficient features including, among others, sparse data support, lazy operations, and a PyTorch interface. From a users perspective, it is based on the idea of a primary 2D matrix `X` of, for example, dimensions `n_patient_visits x n_features`. The patient visits would then also be the observations (`obs`) and the features would be the variables (`var`). AnnData allows us to annotate this matrix either with respect to the observations or the variables. Furthermore, AnnData allows for the addition of graph like structures (`obsp, varp`) and further structured (`obsm, varm`) and unstructured matrices (`uns`) to be saved within the same object. These can than be readily used for various machine learning algorithms.\n",
    "\n",
    "Visualized it looks like this:\n",
    "\n",
    "\n",
    "![](images/anndata_schema.jpg)"
   ]
  },
  {
   "attachments": {},
   "cell_type": "markdown",
   "id": "6550d6b7-f6c6-494d-897d-9860d7d6dccd",
   "metadata": {},
   "source": [
    "Let us create an example AnnData object as it would be used in ehrapy."
   ]
  },
  {
   "cell_type": "code",
   "execution_count": 1,
   "id": "7d190ad9-d2d8-49f1-a7fb-9551a48b5675",
   "metadata": {
    "tags": []
   },
   "outputs": [],
   "source": [
    "import anndata as ad\n",
    "import pandas as pd\n",
    "import numpy as np"
   ]
  },
  {
   "attachments": {},
   "cell_type": "markdown",
   "id": "9089a7a1-56e1-44b2-ba1d-f5e794633fab",
   "metadata": {},
   "source": [
    "After importing the required packages, we create an example dataset with a **patient_visit_id** column and some feature columns such as **age**, **b12_level** and **d3_level**. We further add a **service_unit** column that we do not want to include as data for our algorithms, but only as annotations."
   ]
  },
  {
   "cell_type": "code",
   "execution_count": 2,
   "id": "10471aab-6329-412c-96f6-accb8d7a44a8",
   "metadata": {},
   "outputs": [],
   "source": [
    "data = {\n",
    "    \"patient_visit_id\": [0, 1, 2],\n",
    "    \"age\": [59, 24, 64],\n",
    "    \"b12_level\": [560, 201, 450],\n",
    "    \"d3_level\": [25, 19, 50],\n",
    "    \"service_unit\": [\"NY\", \"NY\", \"BO\"],\n",
    "}\n",
    "df = pd.DataFrame(data)"
   ]
  },
  {
   "cell_type": "code",
   "execution_count": 3,
   "id": "c92da069-474e-418b-874c-98149b70d941",
   "metadata": {},
   "outputs": [
    {
     "data": {
      "application/vnd.microsoft.datawrangler.viewer.v0+json": {
       "columns": [
        {
         "name": "index",
         "rawType": "int64",
         "type": "integer"
        },
        {
         "name": "patient_visit_id",
         "rawType": "int64",
         "type": "integer"
        },
        {
         "name": "age",
         "rawType": "int64",
         "type": "integer"
        },
        {
         "name": "b12_level",
         "rawType": "int64",
         "type": "integer"
        },
        {
         "name": "d3_level",
         "rawType": "int64",
         "type": "integer"
        },
        {
         "name": "service_unit",
         "rawType": "object",
         "type": "string"
        }
       ],
       "conversionMethod": "pd.DataFrame",
       "ref": "8640575a-9294-4c77-8b18-c7358d52a469",
       "rows": [
        [
         "0",
         "0",
         "59",
         "560",
         "25",
         "NY"
        ],
        [
         "1",
         "1",
         "24",
         "201",
         "19",
         "NY"
        ],
        [
         "2",
         "2",
         "64",
         "450",
         "50",
         "BO"
        ]
       ],
       "shape": {
        "columns": 5,
        "rows": 3
       }
      },
      "text/html": [
       "<div>\n",
       "<style scoped>\n",
       "    .dataframe tbody tr th:only-of-type {\n",
       "        vertical-align: middle;\n",
       "    }\n",
       "\n",
       "    .dataframe tbody tr th {\n",
       "        vertical-align: top;\n",
       "    }\n",
       "\n",
       "    .dataframe thead th {\n",
       "        text-align: right;\n",
       "    }\n",
       "</style>\n",
       "<table border=\"1\" class=\"dataframe\">\n",
       "  <thead>\n",
       "    <tr style=\"text-align: right;\">\n",
       "      <th></th>\n",
       "      <th>patient_visit_id</th>\n",
       "      <th>age</th>\n",
       "      <th>b12_level</th>\n",
       "      <th>d3_level</th>\n",
       "      <th>service_unit</th>\n",
       "    </tr>\n",
       "  </thead>\n",
       "  <tbody>\n",
       "    <tr>\n",
       "      <th>0</th>\n",
       "      <td>0</td>\n",
       "      <td>59</td>\n",
       "      <td>560</td>\n",
       "      <td>25</td>\n",
       "      <td>NY</td>\n",
       "    </tr>\n",
       "    <tr>\n",
       "      <th>1</th>\n",
       "      <td>1</td>\n",
       "      <td>24</td>\n",
       "      <td>201</td>\n",
       "      <td>19</td>\n",
       "      <td>NY</td>\n",
       "    </tr>\n",
       "    <tr>\n",
       "      <th>2</th>\n",
       "      <td>2</td>\n",
       "      <td>64</td>\n",
       "      <td>450</td>\n",
       "      <td>50</td>\n",
       "      <td>BO</td>\n",
       "    </tr>\n",
       "  </tbody>\n",
       "</table>\n",
       "</div>"
      ],
      "text/plain": [
       "   patient_visit_id  age  b12_level  d3_level service_unit\n",
       "0                 0   59        560        25           NY\n",
       "1                 1   24        201        19           NY\n",
       "2                 2   64        450        50           BO"
      ]
     },
     "execution_count": 3,
     "metadata": {},
     "output_type": "execute_result"
    }
   ],
   "source": [
    "df"
   ]
  },
  {
   "attachments": {},
   "cell_type": "markdown",
   "id": "771f37ba-5543-4821-9083-ade2403fe7ad",
   "metadata": {},
   "source": [
    "Next, we import ehrapy and create an AnnData object using this Pandas DataFrame. Usually, EHR data comes in the form of `csv/tsv` tables that can be directly read into ehrapy using [`ep.io.read_csv()`](https://ehrapy.readthedocs.io/en/latest/usage/io/ehrapy.io.read_csv.html). For the sake of this example we transform an existing Pandas DataFrame into an AnnData object using the `df_to_anndata` function. Note that it has a `index_column` parameter to set the index and a `columns_obs_only` parameter which denotes features which should not be a part of the `X` matrix but of `obs` annotations. This will allow us to e.g. color plots by `service_unit`, but not to use these values for algorithms."
   ]
  },
  {
   "cell_type": "code",
   "execution_count": null,
   "id": "d1c24efb-a176-44b6-a7f2-3fe344403444",
   "metadata": {},
   "outputs": [],
   "source": [
    "import ehrapy as ep"
   ]
  },
  {
   "cell_type": "code",
   "execution_count": null,
   "id": "015f6cd8-7e52-4d7d-b0f4-5c4539f9434f",
   "metadata": {},
   "outputs": [
    {
     "name": "stderr",
     "output_type": "stream",
     "text": [
      "/home/zeth/PycharmProjects/ehrapy/ehrapy/anndata/anndata_ext.py:108: DeprecationWarning: Converting `np.inexact` or `np.floating` to a dtype is deprecated. The current result is `float64` which is not strictly correct.\n",
      "  X = X.astype(np.number) if all_num else X.astype(object)\n"
     ]
    }
   ],
   "source": [
    "adata = ep.ad.df_to_anndata(\n",
    "    df, index_column=\"patient_visit_id\", columns_obs_only=[\"service_unit\"]\n",
    ")"
   ]
  },
  {
   "cell_type": "code",
   "execution_count": null,
   "id": "4c31460d-45fb-4eb9-9577-b6985cb7c8da",
   "metadata": {},
   "outputs": [
    {
     "data": {
      "text/plain": [
       "AnnData object with n_obs × n_vars = 3 × 3\n",
       "    obs: 'service_unit'\n",
       "    var: 'ehrapy_column_type'\n",
       "    layers: 'original'"
      ]
     },
     "execution_count": 9,
     "metadata": {},
     "output_type": "execute_result"
    }
   ],
   "source": [
    "adata"
   ]
  },
  {
   "attachments": {},
   "cell_type": "markdown",
   "id": "22622d76-aa15-45db-aece-3ab0d47d7527",
   "metadata": {},
   "source": [
    "When examining our AnnData object we notice that it has a matrix of size 3 x 3 which correspond to our **age**, **B12** and **D3** measurements."
   ]
  },
  {
   "cell_type": "code",
   "execution_count": null,
   "id": "40d2e5e2-40ae-4154-a023-e0c67cf15e36",
   "metadata": {},
   "outputs": [
    {
     "data": {
      "text/html": [
       "<div>\n",
       "<style scoped>\n",
       "    .dataframe tbody tr th:only-of-type {\n",
       "        vertical-align: middle;\n",
       "    }\n",
       "\n",
       "    .dataframe tbody tr th {\n",
       "        vertical-align: top;\n",
       "    }\n",
       "\n",
       "    .dataframe thead th {\n",
       "        text-align: right;\n",
       "    }\n",
       "</style>\n",
       "<table border=\"1\" class=\"dataframe\">\n",
       "  <thead>\n",
       "    <tr style=\"text-align: right;\">\n",
       "      <th></th>\n",
       "      <th>service_unit</th>\n",
       "    </tr>\n",
       "    <tr>\n",
       "      <th>patient_visit_id</th>\n",
       "      <th></th>\n",
       "    </tr>\n",
       "  </thead>\n",
       "  <tbody>\n",
       "    <tr>\n",
       "      <th>0</th>\n",
       "      <td>NY</td>\n",
       "    </tr>\n",
       "    <tr>\n",
       "      <th>1</th>\n",
       "      <td>NY</td>\n",
       "    </tr>\n",
       "    <tr>\n",
       "      <th>2</th>\n",
       "      <td>BO</td>\n",
       "    </tr>\n",
       "  </tbody>\n",
       "</table>\n",
       "</div>"
      ],
      "text/plain": [
       "                 service_unit\n",
       "patient_visit_id             \n",
       "0                          NY\n",
       "1                          NY\n",
       "2                          BO"
      ]
     },
     "execution_count": 10,
     "metadata": {},
     "output_type": "execute_result"
    }
   ],
   "source": [
    "adata.obs"
   ]
  },
  {
   "attachments": {},
   "cell_type": "markdown",
   "id": "ef2162b6-a9b0-48d4-9dbe-cf2f83a53cd6",
   "metadata": {},
   "source": [
    "Furthermore, our `obs` has the service unit as expected. The AnnData object also has data in the `uns` (unstructured) slot that denotes which columns are numerical columns and which ones are not. This may be required for specific algorithms."
   ]
  },
  {
   "cell_type": "code",
   "execution_count": null,
   "id": "992fd973-69fc-4ce2-ae7b-53cd27657765",
   "metadata": {},
   "outputs": [
    {
     "data": {
      "image/png": "[encoded data removed]",
      "text/latex": [
       "$\\displaystyle \\left\\{ \\right\\}$"
      ],
      "text/plain": [
       "OrderedDict()"
      ]
     },
     "execution_count": 11,
     "metadata": {},
     "output_type": "execute_result"
    }
   ],
   "source": [
    "adata.uns"
   ]
  },
  {
   "attachments": {},
   "cell_type": "markdown",
   "id": "76880ffc-e7aa-4515-abc3-c1d4e73f2674",
   "metadata": {},
   "source": [
    "Finally, the `layers` slot of our object saves all original values before any modifications in `original`. When using ehrapy, the `X` matrix will constantly be modified when applying algorithms to the object (e.g. scaling). This layer is a copy of our original `X` which will allow us to e.g. scale the age, but use the original values when coloring a UMAP plot."
   ]
  },
  {
   "cell_type": "code",
   "execution_count": null,
   "id": "01673e27-c9c2-4d0f-88a0-348604d85958",
   "metadata": {},
   "outputs": [
    {
     "data": {
      "text/plain": [
       "array([[ 59., 560.,  25.],\n",
       "       [ 24., 201.,  19.],\n",
       "       [ 64., 450.,  50.]])"
      ]
     },
     "execution_count": 12,
     "metadata": {},
     "output_type": "execute_result"
    }
   ],
   "source": [
    "adata.layers[\"original\"]"
   ]
  },
  {
   "attachments": {},
   "cell_type": "markdown",
   "id": "642a3e49-a670-4e12-b4e8-1522f9a6835c",
   "metadata": {},
   "source": [
    "For more details please examine the [AnnData documentation](https://anndata.readthedocs.io/en/latest/) and the [AnnData paper](https://www.biorxiv.org/content/10.1101/2021.12.16.473007v1)."
   ]
  },
  {
   "attachments": {},
   "cell_type": "markdown",
   "id": "e143c4fb-c5ec-4b1c-89a7-ded10d9cafe8",
   "metadata": {},
   "source": [
    "## scanpy"
   ]
  },
  {
   "attachments": {},
   "cell_type": "markdown",
   "id": "759f0145-1d5f-4cc3-9825-a640e25dff15",
   "metadata": {},
   "source": [
    "[scanpy](https://github.com/theislab/scanpy/) is a framework for the analysis of single-cell data and ehrapy heavily builds upon it. While some of the implemented algorithms are single-cell specific (e.g. the **highly_variable_genes** function), many can be applied to any data (e.g. PCA or UMAP). ehrapy may also implement equivalents of single-cell specific functions that are EHR specific (e.g. the **highly_variable_features** function). All useful scanpy functions are wrapped in ehrapy to ensure that they are easily accessible and implemented in a fast and scalable way.\n",
    "\n",
    "![](images/scanpy.jpg)"
   ]
  },
  {
   "attachments": {},
   "cell_type": "markdown",
   "id": "8f0c4672-f5e7-4da3-b882-ba07847f3a62",
   "metadata": {},
   "source": [
    "Just like scanpy, ehrapy follows the same API patterns of preprocessing (pp), tools (tl) and plots (pl). Hence, the various functions from scanpy like `scanpy.tl.umap` can be used from ehrapy in a similar fashion: `ep.tl.umap`.\n",
    "\n",
    "The documentation of ehrapy tries to hide as many details from the single-cell world as possible, but you may see the terms cell, gene or expression pop up somewhere. However, the tight integration of AnnData and scanpy into ehrapy also allows for the joint analysis of omics data and EHR data. We will provide a vignette for this in the future.\n",
    "\n",
    "To learn more about scanpy please read the [scanpy documentation ](https://scanpy.readthedocs.io/en/stable/) and the [scanpy paper ](https://genomebiology.biomedcentral.com/articles/10.1186/s13059-017-1382-0)."
   ]
  },
  {
   "attachments": {},
   "cell_type": "markdown",
   "id": "9a8fccc7-16bc-4e11-82fa-6b2a2268e89c",
   "metadata": {},
   "source": [
    "## ehrapy"
   ]
  },
  {
   "attachments": {},
   "cell_type": "markdown",
   "id": "ff73e643-340e-4dda-a92f-9f13ac856aa3",
   "metadata": {},
   "source": [
    "Now that we've covered the basics of AnnData and scanpy and we have an example dataset, we can apply some of ehrapy's tools on it.\n",
    "We will start by calculating and visualizing a PCA on our data."
   ]
  },
  {
   "cell_type": "code",
   "execution_count": null,
   "id": "b8c3e1ab-718c-482d-a137-90db49898a7f",
   "metadata": {},
   "outputs": [],
   "source": [
    "ep.pp.pca(adata)"
   ]
  },
  {
   "cell_type": "code",
   "execution_count": null,
   "id": "791fcafb-eca5-4029-bc95-319f6fd60109",
   "metadata": {},
   "outputs": [
    {
     "data": {
      "image/png": "[encoded data removed]",
      "text/plain": [
       "<Figure size 640x480 with 1 Axes>"
      ]
     },
     "metadata": {},
     "output_type": "display_data"
    }
   ],
   "source": [
    "ep.pl.pca(adata, color=\"service_unit\")"
   ]
  },
  {
   "attachments": {},
   "cell_type": "markdown",
   "id": "6b3158d0-5f09-47cb-8ff2-249386257680",
   "metadata": {},
   "source": [
    "This is of course not a useful analysis since we only have three visits."
   ]
  },
  {
   "cell_type": "markdown",
   "id": "8077a630-b72f-43ef-8597-1913f84a2f5f",
   "metadata": {},
   "source": [
    "## Making your dataset ready for ehrapy"
   ]
  },
  {
   "cell_type": "markdown",
   "id": "91a05e19-9af4-44b4-a221-4bfaaab66d0e",
   "metadata": {},
   "source": [
    "### Data types"
   ]
  },
  {
   "cell_type": "markdown",
   "id": "8d779967-51f5-4be0-81b1-8732896883ba",
   "metadata": {},
   "source": [
    "ehrapy requires data to be in two dimensional, vectorized format meaning anything that could be stored in a single Pandas DataFrame is suitable.\n",
    "It does not matter whether the data originally came from a database or several CSV files."
   ]
  },
  {
   "cell_type": "code",
   "execution_count": null,
   "id": "47a325f8-cbc0-4957-9b48-d001e76b090d",
   "metadata": {},
   "outputs": [
    {
     "data": {
      "text/html": [
       "<div>\n",
       "<style scoped>\n",
       "    .dataframe tbody tr th:only-of-type {\n",
       "        vertical-align: middle;\n",
       "    }\n",
       "\n",
       "    .dataframe tbody tr th {\n",
       "        vertical-align: top;\n",
       "    }\n",
       "\n",
       "    .dataframe thead th {\n",
       "        text-align: right;\n",
       "    }\n",
       "</style>\n",
       "<table border=\"1\" class=\"dataframe\">\n",
       "  <thead>\n",
       "    <tr style=\"text-align: right;\">\n",
       "      <th></th>\n",
       "      <th>MixedColumn1</th>\n",
       "      <th>MixedColumn2</th>\n",
       "    </tr>\n",
       "  </thead>\n",
       "  <tbody>\n",
       "    <tr>\n",
       "      <th>0</th>\n",
       "      <td>Apple</td>\n",
       "      <td>15</td>\n",
       "    </tr>\n",
       "    <tr>\n",
       "      <th>1</th>\n",
       "      <td>10</td>\n",
       "      <td>Cherry</td>\n",
       "    </tr>\n",
       "    <tr>\n",
       "      <th>2</th>\n",
       "      <td>Banana</td>\n",
       "      <td>5</td>\n",
       "    </tr>\n",
       "    <tr>\n",
       "      <th>3</th>\n",
       "      <td>20</td>\n",
       "      <td>Date</td>\n",
       "    </tr>\n",
       "  </tbody>\n",
       "</table>\n",
       "</div>"
      ],
      "text/plain": [
       "  MixedColumn1 MixedColumn2\n",
       "0        Apple           15\n",
       "1           10       Cherry\n",
       "2       Banana            5\n",
       "3           20         Date"
      ]
     },
     "execution_count": 16,
     "metadata": {},
     "output_type": "execute_result"
    }
   ],
   "source": [
    "# This is NOT okay\n",
    "data = {\n",
    "    \"MixedColumn1\": [\"Apple\", 10, \"Banana\", 20],\n",
    "    \"MixedColumn2\": [15, \"Cherry\", 5, \"Date\"],\n",
    "}\n",
    "df = pd.DataFrame(data)\n",
    "df"
   ]
  },
  {
   "cell_type": "code",
   "execution_count": null,
   "id": "908e6813-cb2f-40a9-94e8-55f3f46fec18",
   "metadata": {},
   "outputs": [
    {
     "data": {
      "text/html": [
       "<div>\n",
       "<style scoped>\n",
       "    .dataframe tbody tr th:only-of-type {\n",
       "        vertical-align: middle;\n",
       "    }\n",
       "\n",
       "    .dataframe tbody tr th {\n",
       "        vertical-align: top;\n",
       "    }\n",
       "\n",
       "    .dataframe thead th {\n",
       "        text-align: right;\n",
       "    }\n",
       "</style>\n",
       "<table border=\"1\" class=\"dataframe\">\n",
       "  <thead>\n",
       "    <tr style=\"text-align: right;\">\n",
       "      <th></th>\n",
       "      <th>Column1</th>\n",
       "      <th>Column2</th>\n",
       "      <th>Column3</th>\n",
       "      <th>Column4</th>\n",
       "      <th>Column5</th>\n",
       "    </tr>\n",
       "  </thead>\n",
       "  <tbody>\n",
       "    <tr>\n",
       "      <th>0</th>\n",
       "      <td>Apple</td>\n",
       "      <td>10</td>\n",
       "      <td>True</td>\n",
       "      <td>2023-08-01</td>\n",
       "      <td>dead</td>\n",
       "    </tr>\n",
       "    <tr>\n",
       "      <th>1</th>\n",
       "      <td>Banana</td>\n",
       "      <td>20</td>\n",
       "      <td>False</td>\n",
       "      <td>2023-08-15</td>\n",
       "      <td>alive</td>\n",
       "    </tr>\n",
       "    <tr>\n",
       "      <th>2</th>\n",
       "      <td>Cherry</td>\n",
       "      <td>15</td>\n",
       "      <td>True</td>\n",
       "      <td>2023-08-10</td>\n",
       "      <td>dead</td>\n",
       "    </tr>\n",
       "    <tr>\n",
       "      <th>3</th>\n",
       "      <td>Date</td>\n",
       "      <td>5</td>\n",
       "      <td>False</td>\n",
       "      <td>2023-08-05</td>\n",
       "      <td>dead</td>\n",
       "    </tr>\n",
       "  </tbody>\n",
       "</table>\n",
       "</div>"
      ],
      "text/plain": [
       "  Column1  Column2  Column3    Column4 Column5\n",
       "0   Apple       10     True 2023-08-01    dead\n",
       "1  Banana       20    False 2023-08-15   alive\n",
       "2  Cherry       15     True 2023-08-10    dead\n",
       "3    Date        5    False 2023-08-05    dead"
      ]
     },
     "execution_count": 17,
     "metadata": {},
     "output_type": "execute_result"
    }
   ],
   "source": [
    "# This is okay\n",
    "data = {\n",
    "    \"Column1\": [\"Apple\", \"Banana\", \"Cherry\", \"Date\"],\n",
    "    \"Column2\": [10, 20, 15, 5],\n",
    "    \"Column3\": [True, False, True, False],\n",
    "    \"Column4\": [\n",
    "        pd.Timestamp(\"2023-08-01\"),\n",
    "        pd.Timestamp(\"2023-08-15\"),\n",
    "        pd.Timestamp(\"2023-08-10\"),\n",
    "        pd.Timestamp(\"2023-08-05\"),\n",
    "    ],\n",
    "    \"Column5\": pd.Categorical([\"dead\", \"alive\", \"dead\", \"dead\"]),\n",
    "}\n",
    "\n",
    "df = pd.DataFrame(data)\n",
    "df"
   ]
  },
  {
   "cell_type": "code",
   "execution_count": null,
   "id": "9e7fb9c0-e4b0-4412-8dd8-452bdb3f5fd8",
   "metadata": {},
   "outputs": [
    {
     "data": {
      "text/plain": [
       "AnnData object with n_obs × n_vars = 4 × 5\n",
       "    var: 'ehrapy_column_type'\n",
       "    layers: 'original'"
      ]
     },
     "execution_count": 18,
     "metadata": {},
     "output_type": "execute_result"
    }
   ],
   "source": [
    "adata = ep.ad.df_to_anndata(df)\n",
    "adata"
   ]
  },
  {
   "cell_type": "markdown",
   "id": "735a52cc-b1d8-4bb8-928d-377dd0b438c9",
   "metadata": {},
   "source": [
    "### Feature groups"
   ]
  },
  {
   "cell_type": "markdown",
   "id": "9564dc0b-eb95-4dbc-95ed-22e18fbeb98e",
   "metadata": {},
   "source": [
    "For many analyses with ehrapy it is useful to group together features that belong to the same data modality.\n",
    "Examples are high level groups such as demography values, lab or vital sign measurements.\n",
    "This allows for simpler groupbys or the creation of subsets:"
   ]
  },
  {
   "cell_type": "code",
   "execution_count": null,
   "id": "aa1d27c8-e4ba-441f-b0bf-934c6d0fadf0",
   "metadata": {},
   "outputs": [
    {
     "data": {
      "text/html": [
       "<div>\n",
       "<style scoped>\n",
       "    .dataframe tbody tr th:only-of-type {\n",
       "        vertical-align: middle;\n",
       "    }\n",
       "\n",
       "    .dataframe tbody tr th {\n",
       "        vertical-align: top;\n",
       "    }\n",
       "\n",
       "    .dataframe thead th {\n",
       "        text-align: right;\n",
       "    }\n",
       "</style>\n",
       "<table border=\"1\" class=\"dataframe\">\n",
       "  <thead>\n",
       "    <tr style=\"text-align: right;\">\n",
       "      <th></th>\n",
       "      <th>gender</th>\n",
       "      <th>age</th>\n",
       "      <th>b12</th>\n",
       "      <th>d3</th>\n",
       "    </tr>\n",
       "  </thead>\n",
       "  <tbody>\n",
       "    <tr>\n",
       "      <th>0</th>\n",
       "      <td>male</td>\n",
       "      <td>10</td>\n",
       "      <td>300</td>\n",
       "      <td>25</td>\n",
       "    </tr>\n",
       "    <tr>\n",
       "      <th>1</th>\n",
       "      <td>female</td>\n",
       "      <td>20</td>\n",
       "      <td>600</td>\n",
       "      <td>30</td>\n",
       "    </tr>\n",
       "    <tr>\n",
       "      <th>2</th>\n",
       "      <td>female</td>\n",
       "      <td>15</td>\n",
       "      <td>800</td>\n",
       "      <td>28</td>\n",
       "    </tr>\n",
       "    <tr>\n",
       "      <th>3</th>\n",
       "      <td>male</td>\n",
       "      <td>5</td>\n",
       "      <td>500</td>\n",
       "      <td>21</td>\n",
       "    </tr>\n",
       "  </tbody>\n",
       "</table>\n",
       "</div>"
      ],
      "text/plain": [
       "   gender  age  b12  d3\n",
       "0    male   10  300  25\n",
       "1  female   20  600  30\n",
       "2  female   15  800  28\n",
       "3    male    5  500  21"
      ]
     },
     "execution_count": 19,
     "metadata": {},
     "output_type": "execute_result"
    }
   ],
   "source": [
    "data = {\n",
    "    \"gender\": pd.Categorical([\"male\", \"female\", \"female\", \"male\"]),\n",
    "    \"age\": [10, 20, 15, 5],\n",
    "    \"b12\": [300, 600, 800, 500],\n",
    "    \"d3\": [25, 30, 28, 21],\n",
    "}\n",
    "df = pd.DataFrame(data)\n",
    "df"
   ]
  },
  {
   "cell_type": "code",
   "execution_count": null,
   "id": "90837e87-a742-40e3-9dc2-b8b4bd380fba",
   "metadata": {},
   "outputs": [
    {
     "data": {
      "text/html": [
       "<div>\n",
       "<style scoped>\n",
       "    .dataframe tbody tr th:only-of-type {\n",
       "        vertical-align: middle;\n",
       "    }\n",
       "\n",
       "    .dataframe tbody tr th {\n",
       "        vertical-align: top;\n",
       "    }\n",
       "\n",
       "    .dataframe thead th {\n",
       "        text-align: right;\n",
       "    }\n",
       "</style>\n",
       "<table border=\"1\" class=\"dataframe\">\n",
       "  <thead>\n",
       "    <tr style=\"text-align: right;\">\n",
       "      <th></th>\n",
       "      <th>ehrapy_column_type</th>\n",
       "    </tr>\n",
       "  </thead>\n",
       "  <tbody>\n",
       "    <tr>\n",
       "      <th>gender</th>\n",
       "      <td>non_numeric</td>\n",
       "    </tr>\n",
       "    <tr>\n",
       "      <th>age</th>\n",
       "      <td>numeric</td>\n",
       "    </tr>\n",
       "    <tr>\n",
       "      <th>b12</th>\n",
       "      <td>numeric</td>\n",
       "    </tr>\n",
       "    <tr>\n",
       "      <th>d3</th>\n",
       "      <td>numeric</td>\n",
       "    </tr>\n",
       "  </tbody>\n",
       "</table>\n",
       "</div>"
      ],
      "text/plain": [
       "       ehrapy_column_type\n",
       "gender        non_numeric\n",
       "age               numeric\n",
       "b12               numeric\n",
       "d3                numeric"
      ]
     },
     "execution_count": 20,
     "metadata": {},
     "output_type": "execute_result"
    }
   ],
   "source": [
    "adata = ep.ad.df_to_anndata(df)\n",
    "adata.var"
   ]
  },
  {
   "cell_type": "code",
   "execution_count": null,
   "id": "1bb859d1-be18-445a-bbf9-6e287f291d3f",
   "metadata": {},
   "outputs": [],
   "source": [
    "demographics_features = [\"age\", \"gender\"]\n",
    "lab_measurements_features = [\"b12\", \"d3\"]\n",
    "\n",
    "# Assign the measurement groups to features in .var\n",
    "measurement_group = []\n",
    "\n",
    "for feature in adata.var_names:\n",
    "    if feature in demographics_features:\n",
    "        measurement_group.append(\"demographics\")\n",
    "    elif feature in lab_measurements_features:\n",
    "        measurement_group.append(\"lab_measurements\")\n",
    "\n",
    "adata.var[\"measurement_group\"] = measurement_group"
   ]
  },
  {
   "cell_type": "code",
   "execution_count": null,
   "id": "19f04f29-82af-4ab6-a5be-f1a06a897eab",
   "metadata": {},
   "outputs": [
    {
     "data": {
      "text/plain": [
       "View of AnnData object with n_obs × n_vars = 4 × 2\n",
       "    var: 'ehrapy_column_type', 'measurement_group'\n",
       "    layers: 'original'"
      ]
     },
     "execution_count": 22,
     "metadata": {},
     "output_type": "execute_result"
    }
   ],
   "source": [
    "adata_demographics = adata[:, adata.var[\"measurement_group\"] == \"demographics\"]\n",
    "adata_demographics"
   ]
  },
  {
   "cell_type": "markdown",
   "id": "62778a52-885b-4dd7-a6e5-9a9faebe4bfb",
   "metadata": {},
   "source": [
    "### Units"
   ]
  },
  {
   "cell_type": "markdown",
   "id": "8e87e933-f254-405f-94a3-3891d5018dc9",
   "metadata": {},
   "source": [
    "EHR measurements are recorded in specific units that are ideally stored with the measurements:"
   ]
  },
  {
   "cell_type": "code",
   "execution_count": null,
   "id": "e41955a2-5954-47d3-8229-413ff306266f",
   "metadata": {},
   "outputs": [
    {
     "data": {
      "text/html": [
       "<div>\n",
       "<style scoped>\n",
       "    .dataframe tbody tr th:only-of-type {\n",
       "        vertical-align: middle;\n",
       "    }\n",
       "\n",
       "    .dataframe tbody tr th {\n",
       "        vertical-align: top;\n",
       "    }\n",
       "\n",
       "    .dataframe thead th {\n",
       "        text-align: right;\n",
       "    }\n",
       "</style>\n",
       "<table border=\"1\" class=\"dataframe\">\n",
       "  <thead>\n",
       "    <tr style=\"text-align: right;\">\n",
       "      <th></th>\n",
       "      <th>gender [categorical]</th>\n",
       "      <th>age [years]</th>\n",
       "      <th>b12 [pg/mL]</th>\n",
       "      <th>d3 [ng/mL]</th>\n",
       "    </tr>\n",
       "  </thead>\n",
       "  <tbody>\n",
       "    <tr>\n",
       "      <th>0</th>\n",
       "      <td>male</td>\n",
       "      <td>10</td>\n",
       "      <td>300</td>\n",
       "      <td>25</td>\n",
       "    </tr>\n",
       "    <tr>\n",
       "      <th>1</th>\n",
       "      <td>female</td>\n",
       "      <td>20</td>\n",
       "      <td>600</td>\n",
       "      <td>30</td>\n",
       "    </tr>\n",
       "    <tr>\n",
       "      <th>2</th>\n",
       "      <td>female</td>\n",
       "      <td>15</td>\n",
       "      <td>800</td>\n",
       "      <td>28</td>\n",
       "    </tr>\n",
       "    <tr>\n",
       "      <th>3</th>\n",
       "      <td>male</td>\n",
       "      <td>5</td>\n",
       "      <td>500</td>\n",
       "      <td>21</td>\n",
       "    </tr>\n",
       "  </tbody>\n",
       "</table>\n",
       "</div>"
      ],
      "text/plain": [
       "  gender [categorical]  age [years]  b12 [pg/mL]  d3 [ng/mL]\n",
       "0                 male           10          300          25\n",
       "1               female           20          600          30\n",
       "2               female           15          800          28\n",
       "3                 male            5          500          21"
      ]
     },
     "execution_count": 23,
     "metadata": {},
     "output_type": "execute_result"
    }
   ],
   "source": [
    "data = {\n",
    "    \"gender [categorical]\": pd.Categorical([\"male\", \"female\", \"female\", \"male\"]),\n",
    "    \"age [years]\": [10, 20, 15, 5],\n",
    "    \"b12 [pg/mL]\": [300, 600, 800, 500],\n",
    "    \"d3 [ng/mL]\": [25, 30, 28, 21],\n",
    "}\n",
    "df = pd.DataFrame(data)\n",
    "df"
   ]
  },
  {
   "cell_type": "code",
   "execution_count": null,
   "id": "e8a29836-66d5-41b3-9efb-0f80085a21d4",
   "metadata": {},
   "outputs": [],
   "source": [
    "adata = ep.ad.df_to_anndata(df)\n",
    "\n",
    "# Extract feature names and units from var_names and store separately\n",
    "feature_names = [var_name.split(\"[\")[0].strip() for var_name in adata.var_names]\n",
    "unit_annotations = [\n",
    "    var_name.split(\"[\")[-1][:-1] if \"[\" in var_name else \"\"\n",
    "    for var_name in adata.var_names\n",
    "]\n",
    "\n",
    "# Update .var with feature names and units separately\n",
    "adata.var_names = feature_names\n",
    "adata.var[\"units\"] = unit_annotations"
   ]
  },
  {
   "cell_type": "code",
   "execution_count": null,
   "id": "5d32932e-3137-4205-962c-45496c1136ec",
   "metadata": {},
   "outputs": [
    {
     "data": {
      "text/html": [
       "<div>\n",
       "<style scoped>\n",
       "    .dataframe tbody tr th:only-of-type {\n",
       "        vertical-align: middle;\n",
       "    }\n",
       "\n",
       "    .dataframe tbody tr th {\n",
       "        vertical-align: top;\n",
       "    }\n",
       "\n",
       "    .dataframe thead th {\n",
       "        text-align: right;\n",
       "    }\n",
       "</style>\n",
       "<table border=\"1\" class=\"dataframe\">\n",
       "  <thead>\n",
       "    <tr style=\"text-align: right;\">\n",
       "      <th></th>\n",
       "      <th>ehrapy_column_type</th>\n",
       "      <th>units</th>\n",
       "    </tr>\n",
       "  </thead>\n",
       "  <tbody>\n",
       "    <tr>\n",
       "      <th>gender</th>\n",
       "      <td>non_numeric</td>\n",
       "      <td>categorical</td>\n",
       "    </tr>\n",
       "    <tr>\n",
       "      <th>age</th>\n",
       "      <td>numeric</td>\n",
       "      <td>years</td>\n",
       "    </tr>\n",
       "    <tr>\n",
       "      <th>b12</th>\n",
       "      <td>numeric</td>\n",
       "      <td>pg/mL</td>\n",
       "    </tr>\n",
       "    <tr>\n",
       "      <th>d3</th>\n",
       "      <td>numeric</td>\n",
       "      <td>ng/mL</td>\n",
       "    </tr>\n",
       "  </tbody>\n",
       "</table>\n",
       "</div>"
      ],
      "text/plain": [
       "       ehrapy_column_type        units\n",
       "gender        non_numeric  categorical\n",
       "age               numeric        years\n",
       "b12               numeric        pg/mL\n",
       "d3                numeric        ng/mL"
      ]
     },
     "execution_count": 25,
     "metadata": {},
     "output_type": "execute_result"
    }
   ],
   "source": [
    "adata.var"
   ]
  },
  {
   "cell_type": "code",
   "execution_count": null,
   "id": "c817e1e5-23d9-4975-9340-89608b638ea0",
   "metadata": {},
   "outputs": [
    {
     "name": "stdout",
     "output_type": "stream",
     "text": [
      "Unit of 'd3': ng/mL\n"
     ]
    }
   ],
   "source": [
    "d3_unit = adata.var[\"units\"][\"d3\"]\n",
    "print(f\"Unit of 'd3': {d3_unit}\")"
   ]
  },
  {
   "cell_type": "markdown",
   "id": "4cba8354-8d87-4932-af33-b84afc2e0de7",
   "metadata": {},
   "source": [
    "## Conclusion"
   ]
  },
  {
   "attachments": {},
   "cell_type": "markdown",
   "id": "0a67aa8b-1d4d-4467-b4d8-fe8aed3e74c3",
   "metadata": {},
   "source": [
    "To get started check out the [MIMIC-II introduction tutorial](https://ehrapy.readthedocs.io/en/latest/tutorials/mimic_2_introduction.html) where you will learn to apply ehrapy to a real dataset to investigate the effect of intdwelling artherical catheters on patient survival over multiple notebooks."
   ]
  },
  {
   "cell_type": "markdown",
   "id": "357159ae-602f-462b-95e8-b654335b9aa7",
   "metadata": {},
   "source": [
    "Please also consider consulting the [ehrapy API](https://ehrapy.readthedocs.io/en/latest/usage/usage.html) documentation."
   ]
  }
 ],
 "metadata": {
  "kernelspec": {
   "display_name": ".venv",
   "language": "python",
   "name": "python3"
  },
  "language_info": {
   "codemirror_mode": {
    "name": "ipython",
    "version": 3
   },
   "file_extension": ".py",
   "mimetype": "text/x-python",
   "name": "python",
   "nbconvert_exporter": "python",
   "pygments_lexer": "ipython3",
   "version": "3.12.7"
  }
 },
 "nbformat": 4,
 "nbformat_minor": 5
}
