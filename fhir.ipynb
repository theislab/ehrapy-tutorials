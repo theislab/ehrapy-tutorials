{
 "cells": [
  {
   "cell_type": "markdown",
   "id": "b6f24a07",
   "metadata": {},
   "source": [
    "# FHIR example"
   ]
  },
  {
   "cell_type": "markdown",
   "id": "313d8824",
   "metadata": {},
   "source": [
    "FHIR (Fast Healthcare Interoperability Resources) is a standard for healthcare data exchange, developed by Health Level Seven International (HL7). It is built on modern web technologies and is designed to enable easier access to healthcare information, supporting JSON, XML, and RDF formats for data representation. FHIR defines a set of \"resources\" that represent granular clinical concepts, like patients, admissions, and medications, facilitating integration with existing healthcare systems and the development of new applications.\n",
    "\n",
    "We want to emphasize that FHIR data is primarily designed for data exchanged and not for observational retrospective data. Such data should be stored in OMOP format."
   ]
  },
  {
   "cell_type": "markdown",
   "id": "f55d3b7f",
   "metadata": {},
   "source": [
    "Here, we'll show a quick example on a synthetic dataset to demonstrate how one could work with FHIR data in ehrapy."
   ]
  },
  {
   "cell_type": "code",
   "execution_count": 13,
   "id": "8df675df4777689a",
   "metadata": {
    "ExecuteTime": {
     "end_time": "2024-05-15T13:47:00.200599Z",
     "start_time": "2024-05-15T13:46:58.309571Z"
    }
   },
   "outputs": [],
   "source": [
    "import ehrapy as ep\n",
    "import ehrdata as ed"
   ]
  },
  {
   "cell_type": "code",
   "execution_count": null,
   "id": "4b27e7ec",
   "metadata": {
    "ExecuteTime": {
     "end_time": "2024-05-15T13:47:25.133835Z",
     "start_time": "2024-05-15T13:47:08.699868Z"
    }
   },
   "outputs": [],
   "source": [
    "%%capture\n",
    "!wget https://synthetichealth.github.io/synthea-sample-data/downloads/latest/synthea_sample_data_fhir_latest.zip\n",
    "!mkdir fhir_dataset\n",
    "!unzip synthea_sample_data_fhir_latest.zip -d fhir_dataset"
   ]
  },
  {
   "cell_type": "markdown",
   "id": "95a14df0",
   "metadata": {},
   "source": [
    "FHIR data is often times nested and contains lists and dictionaries.\n",
    "Generally, there are three options to deal with this:\n",
    "1. Transform the data into an awkward array and flatten it when needed.\n",
    "2. Extract values from all lists and dictionaries to store single values in the fields.\n",
    "3. Remove all lists and dictionaries. Only do this if the information is not relevant to you."
   ]
  },
  {
   "cell_type": "raw",
   "id": "59bde5de",
   "metadata": {},
   "source": [
    "Here, we'll work with :class:`pandas.DataFrame` to be able to apply option 3."
   ]
  },
  {
   "cell_type": "code",
   "execution_count": 14,
   "id": "b036b8e1",
   "metadata": {
    "ExecuteTime": {
     "end_time": "2024-05-15T13:48:00.239611Z",
     "start_time": "2024-05-15T13:47:43.088018Z"
    }
   },
   "outputs": [],
   "source": [
    "df = ep.io.read_fhir(\"fhir_dataset\", return_df=True)\n",
    "df = df[:1000]  # The dataset is very large so we subset to the first 1000 records"
   ]
  },
  {
   "cell_type": "code",
   "execution_count": 15,
   "id": "40d14b21",
   "metadata": {
    "ExecuteTime": {
     "end_time": "2024-05-15T13:48:00.636957Z",
     "start_time": "2024-05-15T13:48:00.241776Z"
    }
   },
   "outputs": [],
   "source": [
    "# Option 3: We're dropping any columns that contain lists or dictionaries and all columns that only contain NA values\n",
    "df.drop(\n",
    "    columns=[col for col in df.columns if any(isinstance(x, (list, dict)) for x in df[col].dropna())],\n",
    "    inplace=True,\n",
    ")\n",
    "df.drop(columns=df.columns[df.isna().all()], inplace=True)"
   ]
  },
  {
   "cell_type": "code",
   "execution_count": 16,
   "id": "ab1920a0",
   "metadata": {
    "ExecuteTime": {
     "end_time": "2024-05-15T13:48:00.651642Z",
     "start_time": "2024-05-15T13:48:00.637702Z"
    }
   },
   "outputs": [
    {
     "data": {
      "text/plain": [
       "EHRData object with n_obs × n_vars = 1000 × 73\n",
       "    shape of .X: (1000, 73)"
      ]
     },
     "execution_count": 16,
     "metadata": {},
     "output_type": "execute_result"
    }
   ],
   "source": [
    "edata = ed.io.from_pandas(df, index_column=\"id\")\n",
    "edata"
   ]
  },
  {
   "cell_type": "code",
   "execution_count": 26,
   "id": "5a150e40",
   "metadata": {},
   "outputs": [
    {
     "data": {
      "text/plain": [
       "array(['categorical', 'date', 'numeric'], dtype=object)"
      ]
     },
     "execution_count": 26,
     "metadata": {},
     "output_type": "execute_result"
    }
   ],
   "source": [
    "edata.var[\"feature_type\"].unique()"
   ]
  },
  {
   "cell_type": "code",
   "execution_count": 29,
   "id": "62af4ffc",
   "metadata": {},
   "outputs": [
    {
     "data": {
      "text/plain": [
       "array([[31],\n",
       "       [36],\n",
       "       [47],\n",
       "       [50],\n",
       "       [51],\n",
       "       [53],\n",
       "       [60]])"
      ]
     },
     "execution_count": 29,
     "metadata": {},
     "output_type": "execute_result"
    }
   ],
   "source": [
    "np.argwhere(edata.var[\"feature_type\"] == \"numeric\")"
   ]
  },
  {
   "cell_type": "code",
   "execution_count": null,
   "id": "76a1b9ff",
   "metadata": {},
   "outputs": [
    {
     "data": {
      "text/plain": [
       "ArrayView([[   nan,    nan,    nan, ...,    nan,    nan,    nan],\n",
       "           [   nan,    nan,    nan, ...,    nan,    nan,    nan],\n",
       "           [   nan,    nan,    nan, ...,    nan,    nan,    nan],\n",
       "           ...,\n",
       "           [   nan,    nan,    nan, ...,    nan,    nan, 143.61],\n",
       "           [   nan,    nan,    nan, ...,    nan,    nan,   4.79],\n",
       "           [   nan,    nan,    nan, ...,    nan,    nan, 102.38]])"
      ]
     },
     "execution_count": 33,
     "metadata": {},
     "output_type": "execute_result"
    }
   ],
   "source": [
    "import numpy as np\n",
    "edata[:, np.argwhere(edata.var[\"feature_type\"] == \"date\").flatten()].X.astype(float)"
   ]
  },
  {
   "cell_type": "code",
   "execution_count": 34,
   "id": "72960623",
   "metadata": {},
   "outputs": [
    {
     "name": "stdout",
     "output_type": "stream",
     "text": [
      "\u001b[93m!\u001b[0m Feature  was detected as categorical features stored numerically.Please verify and adjust if necessary using `ed.replace_feature_types`.\n"
     ]
    },
    {
     "data": {
      "text/html": [
       "<pre style=\"white-space:pre;overflow-x:auto;line-height:normal;font-family:Menlo,'DejaVu Sans Mono',consolas,'Courier New',monospace\"><span style=\"font-weight: bold\"> Detected feature types for EHRData object with 1000 obs and 73 vars</span>\n",
       "╠══ 📅<span style=\"font-weight: bold\"> Date features</span>\n",
       "║   ╠══ resource.abatementDateTime\n",
       "║   ╠══ resource.authoredOn\n",
       "║   ╠══ resource.billablePeriod.end\n",
       "║   ╠══ resource.billablePeriod.start\n",
       "║   ╠══ resource.birthDate\n",
       "║   ╠══ resource.context.period.end\n",
       "║   ╠══ resource.context.period.start\n",
       "║   ╠══ resource.created\n",
       "║   ╠══ resource.date\n",
       "║   ╠══ resource.effectiveDateTime\n",
       "║   ╠══ resource.expirationDate\n",
       "║   ╠══ resource.issued\n",
       "║   ╠══ resource.manufactureDate\n",
       "║   ╠══ resource.occurrenceDateTime\n",
       "║   ╠══ resource.onsetDateTime\n",
       "║   ╠══ resource.performedPeriod.end\n",
       "║   ╠══ resource.performedPeriod.start\n",
       "║   ╠══ resource.period.end\n",
       "║   ╠══ resource.period.start\n",
       "║   ╠══ resource.recordedDate\n",
       "║   ╚══ resource.started\n",
       "╠══ 📐<span style=\"font-weight: bold\"> Numerical features</span>\n",
       "║   ╠══ resource.distinctIdentifier\n",
       "║   ╠══ resource.lotNumber\n",
       "║   ╠══ resource.payment.amount.value\n",
       "║   ╠══ resource.serialNumber\n",
       "║   ╠══ resource.suppliedItem.quantity.value\n",
       "║   ╠══ resource.total.value\n",
       "║   ╚══ resource.valueQuantity.value\n",
       "╚══ 🗂️<span style=\"font-weight: bold\"> Categorical features</span>\n",
       "    ╠══ fullUrl (1000 categories)\n",
       "    ╠══ patientId (3 categories)\n",
       "    ╠══ request.method (1 categories)\n",
       "    ╠══ request.url (19 categories)\n",
       "    ╠══ resource.claim.reference (69 categories)\n",
       "    ╠══ resource.class.code (3 categories)\n",
       "    ╠══ resource.class.system (1 categories)\n",
       "    ╠══ resource.code.text (199 categories)\n",
       "    ╠══ resource.context.reference (5 categories)\n",
       "    ╠══ resource.criticality (1 categories)\n",
       "    ╠══ resource.custodian.reference (4 categories)\n",
       "    ╠══ resource.encounter.reference (41 categories)\n",
       "    ╠══ resource.facility.reference (4 categories)\n",
       "    ╠══ resource.gender (1 categories)\n",
       "    ╠══ resource.intent (1 categories)\n",
       "    ╠══ resource.location.reference (4 categories)\n",
       "    ╠══ resource.maritalStatus.text (1 categories)\n",
       "    ╠══ resource.medicationCodeableConcept.text (17 categories)\n",
       "    ╠══ resource.medicationReference.reference (13 categories)\n",
       "    ╠══ resource.multipleBirthBoolean (1 categories)\n",
       "    ╠══ resource.numberOfInstances (1 categories)\n",
       "    ╠══ resource.numberOfSeries (1 categories)\n",
       "    ╠══ resource.outcome (1 categories)\n",
       "    ╠══ resource.patient.reference (1 categories)\n",
       "    ╠══ resource.payment.amount.currency (1 categories)\n",
       "    ╠══ resource.prescription.reference (29 categories)\n",
       "    ╠══ resource.primarySource (1 categories)\n",
       "    ╠══ resource.provider.reference (8 categories)\n",
       "    ╠══ resource.referral.reference (1 categories)\n",
       "    ╠══ resource.requester.reference (4 categories)\n",
       "    ╠══ resource.resourceType (19 categories)\n",
       "    ╠══ resource.serviceProvider.reference (4 categories)\n",
       "    ╠══ resource.status (7 categories)\n",
       "    ╠══ resource.subject.reference (1 categories)\n",
       "    ╠══ resource.suppliedItem.itemCodeableConcept.text (8 categories)\n",
       "    ╠══ resource.text.status (1 categories)\n",
       "    ╠══ resource.total.currency (1 categories)\n",
       "    ╠══ resource.type.text (6 categories)\n",
       "    ╠══ resource.use (1 categories)\n",
       "    ╠══ resource.vaccineCode.text (3 categories)\n",
       "    ╠══ resource.valueCodeableConcept.text (1 categories)\n",
       "    ╠══ resource.valueQuantity.code (25 categories)\n",
       "    ╠══ resource.valueQuantity.system (1 categories)\n",
       "    ╠══ resource.valueQuantity.unit (25 categories)\n",
       "    ╚══ resource.valueString (2 categories)\n",
       "</pre>\n"
      ],
      "text/plain": [
       "\u001b[1m Detected feature types for EHRData object with 1000 obs and 73 vars\u001b[0m\n",
       "╠══ 📅\u001b[1m Date features\u001b[0m\n",
       "║   ╠══ resource.abatementDateTime\n",
       "║   ╠══ resource.authoredOn\n",
       "║   ╠══ resource.billablePeriod.end\n",
       "║   ╠══ resource.billablePeriod.start\n",
       "║   ╠══ resource.birthDate\n",
       "║   ╠══ resource.context.period.end\n",
       "║   ╠══ resource.context.period.start\n",
       "║   ╠══ resource.created\n",
       "║   ╠══ resource.date\n",
       "║   ╠══ resource.effectiveDateTime\n",
       "║   ╠══ resource.expirationDate\n",
       "║   ╠══ resource.issued\n",
       "║   ╠══ resource.manufactureDate\n",
       "║   ╠══ resource.occurrenceDateTime\n",
       "║   ╠══ resource.onsetDateTime\n",
       "║   ╠══ resource.performedPeriod.end\n",
       "║   ╠══ resource.performedPeriod.start\n",
       "║   ╠══ resource.period.end\n",
       "║   ╠══ resource.period.start\n",
       "║   ╠══ resource.recordedDate\n",
       "║   ╚══ resource.started\n",
       "╠══ 📐\u001b[1m Numerical features\u001b[0m\n",
       "║   ╠══ resource.distinctIdentifier\n",
       "║   ╠══ resource.lotNumber\n",
       "║   ╠══ resource.payment.amount.value\n",
       "║   ╠══ resource.serialNumber\n",
       "║   ╠══ resource.suppliedItem.quantity.value\n",
       "║   ╠══ resource.total.value\n",
       "║   ╚══ resource.valueQuantity.value\n",
       "╚══ 🗂️\u001b[1m Categorical features\u001b[0m\n",
       "    ╠══ fullUrl (1000 categories)\n",
       "    ╠══ patientId (3 categories)\n",
       "    ╠══ request.method (1 categories)\n",
       "    ╠══ request.url (19 categories)\n",
       "    ╠══ resource.claim.reference (69 categories)\n",
       "    ╠══ resource.class.code (3 categories)\n",
       "    ╠══ resource.class.system (1 categories)\n",
       "    ╠══ resource.code.text (199 categories)\n",
       "    ╠══ resource.context.reference (5 categories)\n",
       "    ╠══ resource.criticality (1 categories)\n",
       "    ╠══ resource.custodian.reference (4 categories)\n",
       "    ╠══ resource.encounter.reference (41 categories)\n",
       "    ╠══ resource.facility.reference (4 categories)\n",
       "    ╠══ resource.gender (1 categories)\n",
       "    ╠══ resource.intent (1 categories)\n",
       "    ╠══ resource.location.reference (4 categories)\n",
       "    ╠══ resource.maritalStatus.text (1 categories)\n",
       "    ╠══ resource.medicationCodeableConcept.text (17 categories)\n",
       "    ╠══ resource.medicationReference.reference (13 categories)\n",
       "    ╠══ resource.multipleBirthBoolean (1 categories)\n",
       "    ╠══ resource.numberOfInstances (1 categories)\n",
       "    ╠══ resource.numberOfSeries (1 categories)\n",
       "    ╠══ resource.outcome (1 categories)\n",
       "    ╠══ resource.patient.reference (1 categories)\n",
       "    ╠══ resource.payment.amount.currency (1 categories)\n",
       "    ╠══ resource.prescription.reference (29 categories)\n",
       "    ╠══ resource.primarySource (1 categories)\n",
       "    ╠══ resource.provider.reference (8 categories)\n",
       "    ╠══ resource.referral.reference (1 categories)\n",
       "    ╠══ resource.requester.reference (4 categories)\n",
       "    ╠══ resource.resourceType (19 categories)\n",
       "    ╠══ resource.serviceProvider.reference (4 categories)\n",
       "    ╠══ resource.status (7 categories)\n",
       "    ╠══ resource.subject.reference (1 categories)\n",
       "    ╠══ resource.suppliedItem.itemCodeableConcept.text (8 categories)\n",
       "    ╠══ resource.text.status (1 categories)\n",
       "    ╠══ resource.total.currency (1 categories)\n",
       "    ╠══ resource.type.text (6 categories)\n",
       "    ╠══ resource.use (1 categories)\n",
       "    ╠══ resource.vaccineCode.text (3 categories)\n",
       "    ╠══ resource.valueCodeableConcept.text (1 categories)\n",
       "    ╠══ resource.valueQuantity.code (25 categories)\n",
       "    ╠══ resource.valueQuantity.system (1 categories)\n",
       "    ╠══ resource.valueQuantity.unit (25 categories)\n",
       "    ╚══ resource.valueString (2 categories)\n"
      ]
     },
     "metadata": {},
     "output_type": "display_data"
    }
   ],
   "source": [
    "ed.infer_feature_types(edata)"
   ]
  },
  {
   "cell_type": "code",
   "execution_count": 35,
   "id": "f4b42a0963eddc92",
   "metadata": {
    "ExecuteTime": {
     "end_time": "2024-05-15T13:48:02.144915Z",
     "start_time": "2024-05-15T13:48:02.091641Z"
    },
    "collapsed": false
   },
   "outputs": [
    {
     "data": {
      "application/vnd.jupyter.widget-view+json": {
       "model_id": "0704fcb951834f6b8bb5fa335c72e4d9",
       "version_major": 2,
       "version_minor": 0
      },
      "text/plain": [
       "Output()"
      ]
     },
     "metadata": {},
     "output_type": "display_data"
    },
    {
     "data": {
      "text/html": [
       "<pre style=\"white-space:pre;overflow-x:auto;line-height:normal;font-family:Menlo,'DejaVu Sans Mono',consolas,'Courier New',monospace\"></pre>\n"
      ],
      "text/plain": []
     },
     "metadata": {},
     "output_type": "display_data"
    }
   ],
   "source": [
    "edata_no_date = edata[:, np.argwhere(edata.var[\"feature_type\"] != \"date\").flatten()]\n",
    "edata_no_date = ep.pp.encode(edata_no_date, autodetect=True)"
   ]
  },
  {
   "cell_type": "code",
   "execution_count": 36,
   "id": "f74bfe98",
   "metadata": {
    "ExecuteTime": {
     "start_time": "2024-04-20T14:44:07.503009Z"
    },
    "is_executing": true
   },
   "outputs": [
    {
     "data": {
      "application/vnd.jupyter.widget-view+json": {
       "model_id": "f21006b8d91c4523a88a77bf2da0ba60",
       "version_major": 2,
       "version_minor": 0
      },
      "text/plain": [
       "Output()"
      ]
     },
     "metadata": {},
     "output_type": "display_data"
    },
    {
     "name": "stdout",
     "output_type": "stream",
     "text": [
      "\u001b[93m!\u001b[0m Feature 'resource.distinctIdentifier' had more than 99.10% missing values!\n"
     ]
    },
    {
     "name": "stdout",
     "output_type": "stream",
     "text": [
      "\u001b[93m!\u001b[0m Feature 'resource.serialNumber' had more than 99.10% missing values!\n",
      "\u001b[93m!\u001b[0m Feature 'resource.payment.amount.value' had more than 93.10% missing values!\n",
      "\u001b[93m!\u001b[0m Feature 'resource.numberOfSeries' had more than 99.30% missing values!\n",
      "\u001b[93m!\u001b[0m Feature 'resource.total.value' had more than 93.10% missing values!\n",
      "\u001b[93m!\u001b[0m Feature 'resource.suppliedItem.quantity.value' had more than 97.30% missing values!\n"
     ]
    },
    {
     "name": "stdout",
     "output_type": "stream",
     "text": [
      "\u001b[93m!\u001b[0m Feature 'resource.numberOfInstances' had more than 99.30% missing values!\n",
      "\u001b[93m!\u001b[0m Feature 'resource.lotNumber' had more than 99.10% missing values!\n"
     ]
    },
    {
     "name": "stdout",
     "output_type": "stream",
     "text": [
      "\u001b[93m!\u001b[0m Fallback data (as defined by passed strategy) were used. This warning will only be displayed once.\n"
     ]
    },
    {
     "data": {
      "text/html": [
       "<pre style=\"white-space:pre;overflow-x:auto;line-height:normal;font-family:Menlo,'DejaVu Sans Mono',consolas,'Courier New',monospace\"></pre>\n"
      ],
      "text/plain": []
     },
     "metadata": {},
     "output_type": "display_data"
    }
   ],
   "source": [
    "ep.pp.knn_impute(edata_no_date)"
   ]
  },
  {
   "cell_type": "code",
   "execution_count": 37,
   "id": "a2232474",
   "metadata": {},
   "outputs": [
    {
     "name": "stderr",
     "output_type": "stream",
     "text": [
      "OMP: Info #276: omp_set_nested routine deprecated, please use omp_set_max_active_levels instead.\n"
     ]
    }
   ],
   "source": [
    "ep.pp.pca(edata_no_date)\n",
    "ep.pp.neighbors(edata_no_date, n_pcs=10)\n",
    "ep.tl.umap(edata_no_date)\n",
    "ep.tl.leiden(edata_no_date, resolution=0.3, key_added=\"leiden_0_3\")"
   ]
  },
  {
   "cell_type": "code",
   "execution_count": 38,
   "id": "d3ec755c",
   "metadata": {},
   "outputs": [
    {
     "data": {
      "image/png": "[encoded data removed]",
      "text/plain": [
       "<Figure size 640x480 with 1 Axes>"
      ]
     },
     "metadata": {},
     "output_type": "display_data"
    }
   ],
   "source": [
    "ep.pl.umap(edata_no_date, color=[\"leiden_0_3\"], title=\"Leiden 0.3\", size=20)"
   ]
  },
  {
   "cell_type": "code",
   "execution_count": null,
   "id": "cc7796dc",
   "metadata": {},
   "outputs": [],
   "source": []
  }
 ],
 "metadata": {
  "kernelspec": {
   "display_name": "ehrdata_ehrapy_condaenv",
   "language": "python",
   "name": "python3"
  },
  "language_info": {
   "codemirror_mode": {
    "name": "ipython",
    "version": 3
   },
   "file_extension": ".py",
   "mimetype": "text/x-python",
   "name": "python",
   "nbconvert_exporter": "python",
   "pygments_lexer": "ipython3",
   "version": "3.11.11"
  }
 },
 "nbformat": 4,
 "nbformat_minor": 5
}
